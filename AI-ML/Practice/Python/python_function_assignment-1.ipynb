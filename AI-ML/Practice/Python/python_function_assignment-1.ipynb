{
 "cells": [
  {
   "cell_type": "code",
   "execution_count": 3,
   "id": "40e55d4b-ead7-4892-813c-7261a5c5fc96",
   "metadata": {},
   "outputs": [
    {
     "name": "stdout",
     "output_type": "stream",
     "text": [
      "Sub-fields in AI are:\n",
      "Machine Learning\n",
      "Neural Networks\n",
      "Vision\n",
      "Robotics\n",
      "Speech Processing\n",
      "Natural Language Processing\n"
     ]
    }
   ],
   "source": [
    "# Create a function that list out the items in the list\n",
    "aiFields = [\"Machine Learning\", \"Neural Networks\", \"Vision\", \"Robotics\", \"Speech Processing\", \"Natural Language Processing\"]\n",
    "def printAISubFields():\n",
    "    print(\"Sub-fields in AI are:\")\n",
    "    for subField in aiFields:\n",
    "        print(subField)\n",
    "\n",
    "printAISubFields()"
   ]
  },
  {
   "cell_type": "code",
   "execution_count": 5,
   "id": "b19b751a-8e71-4997-955d-cf6c3405f54b",
   "metadata": {},
   "outputs": [
    {
     "name": "stdin",
     "output_type": "stream",
     "text": [
      "Enter a number 52452\n"
     ]
    },
    {
     "name": "stdout",
     "output_type": "stream",
     "text": [
      "52452 is Even number\n"
     ]
    }
   ],
   "source": [
    "# Function to check whether the given number is Odd or Even\n",
    "def checkIfOddOrEven(given_number):\n",
    "    if (given_number % 2) == 0:\n",
    "        print(given_number, \"is Even number\")\n",
    "    else:\n",
    "        print(given_number, \"is Odd Number\")\n",
    "\n",
    "user_input_number = int(input(\"Enter a number\"))\n",
    "checkIfOddOrEven(user_input_number)"
   ]
  },
  {
   "cell_type": "code",
   "execution_count": 11,
   "id": "fecd4117-f7fb-456c-b438-ad709d850b46",
   "metadata": {},
   "outputs": [
    {
     "name": "stdin",
     "output_type": "stream",
     "text": [
      "Your Gender Male\n",
      "Your Age 20\n"
     ]
    },
    {
     "name": "stdout",
     "output_type": "stream",
     "text": [
      "Not Eligible\n"
     ]
    }
   ],
   "source": [
    "# Create a function that tells eligibility of marriage for male and female according to their age, male = 21, female = 18\n",
    "def checkMarriageAge(given_gender, given_age):\n",
    "    if (given_gender == 'Male' and given_age >= 21):\n",
    "        eligibleStatus = \"Eligible\"\n",
    "    elif (given_gender == 'Female' and given_age >= 18):\n",
    "        eligibleStatus = \"Eligible\"\n",
    "    else:\n",
    "        eligibleStatus = \"Not Eligible\"\n",
    "\n",
    "    return eligibleStatus\n",
    "\n",
    "user_gender = input(\"Your Gender\")\n",
    "user_age = int(input(\"Your Age\"))\n",
    "eligiblityStatus = checkMarriageAge(user_gender, user_age)\n",
    "\n",
    "print(eligiblityStatus)\n",
    "        "
   ]
  },
  {
   "cell_type": "code",
   "execution_count": 14,
   "id": "8fbf5766-d5bf-412e-b287-6ea1d45c0aa2",
   "metadata": {},
   "outputs": [
    {
     "name": "stdin",
     "output_type": "stream",
     "text": [
      "Enter mark for subject 1 80\n",
      "Enter mark for subject 2 70\n",
      "Enter mark for subject 3 65\n",
      "Enter mark for subject 4 85\n",
      "Enter mark for subject 5 98\n"
     ]
    },
    {
     "name": "stdout",
     "output_type": "stream",
     "text": [
      "Total mark is 398.0\n",
      "Percentage is 79.6\n"
     ]
    }
   ],
   "source": [
    "# Calculate the percentage of 10th Mark\n",
    "def calculatePercentage():\n",
    "    subject_count = 5\n",
    "    total_mark = 0\n",
    "    \n",
    "    for i in range(subject_count):\n",
    "        mark = float(input(f\"Enter mark for subject {i + 1}\"))\n",
    "        total_mark += mark\n",
    "\n",
    "    percentage = total_mark / subject_count\n",
    "\n",
    "    print(f\"Total mark is {total_mark}\")\n",
    "    print(f\"Percentage is {percentage}\")\n",
    "\n",
    "\n",
    "calculatePercentage()"
   ]
  },
  {
   "cell_type": "code",
   "execution_count": 16,
   "id": "5d24c29b-761d-41bd-9a08-f0222337ba23",
   "metadata": {},
   "outputs": [
    {
     "name": "stdout",
     "output_type": "stream",
     "text": [
      "Find Triangle Area\n"
     ]
    },
    {
     "name": "stdin",
     "output_type": "stream",
     "text": [
      "Enter Base 20\n",
      "Enter Height 30\n"
     ]
    },
    {
     "name": "stdout",
     "output_type": "stream",
     "text": [
      "300.0\n",
      "Find Perimeter\n"
     ]
    },
    {
     "name": "stdin",
     "output_type": "stream",
     "text": [
      "Side 1 20\n",
      "Side 2 30\n",
      "Side 3 50\n"
     ]
    },
    {
     "name": "stdout",
     "output_type": "stream",
     "text": [
      "100.0\n"
     ]
    }
   ],
   "source": [
    "# Find area and perimeter of a triangle\n",
    "# Formula => Area = (Height * Breadth) / 2\n",
    "# Formula => Perimeter = Height1 + Height2 + Breadth\n",
    "\n",
    "def find_triangle_area(base, height):\n",
    "    return (base * height) / 2\n",
    "\n",
    "def find_triangle_perimeter(side_a, side_b, side_c):\n",
    "    return (side_a + side_b + side_c)\n",
    "\n",
    "print(\"Find Triangle Area\")\n",
    "base = float(input(\"Enter Base\"))\n",
    "height = float(input(\"Enter Height\"))\n",
    "\n",
    "area_value = find_triangle_area(base, height)\n",
    "print(area_value)\n",
    "\n",
    "print(\"Find Perimeter\")\n",
    "side_1 = float(input(\"Side 1\"))\n",
    "side_2 = float(input(\"Side 2\"))\n",
    "side_3 = float(input(\"Side 3\"))\n",
    "perimeter = (side_1 + side_2 + side_3)\n",
    "\n",
    "print(perimeter)"
   ]
  },
  {
   "cell_type": "code",
   "execution_count": null,
   "id": "2ceb2907-aa6b-4ff5-acaa-fbbaf3050279",
   "metadata": {},
   "outputs": [],
   "source": []
  }
 ],
 "metadata": {
  "kernelspec": {
   "display_name": "Python 3 (ipykernel)",
   "language": "python",
   "name": "python3"
  },
  "language_info": {
   "codemirror_mode": {
    "name": "ipython",
    "version": 3
   },
   "file_extension": ".py",
   "mimetype": "text/x-python",
   "name": "python",
   "nbconvert_exporter": "python",
   "pygments_lexer": "ipython3",
   "version": "3.13.5"
  }
 },
 "nbformat": 4,
 "nbformat_minor": 5
}
