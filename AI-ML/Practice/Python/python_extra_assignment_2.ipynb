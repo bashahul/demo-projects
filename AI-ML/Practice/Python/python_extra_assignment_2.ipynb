{
 "cells": [
  {
   "cell_type": "code",
   "execution_count": 1,
   "id": "aee98d09-adad-4b42-baaf-6c6758924630",
   "metadata": {},
   "outputs": [],
   "source": [
    "# print 0 to 20 using Range"
   ]
  },
  {
   "cell_type": "code",
   "execution_count": 2,
   "id": "5d2e5742-2155-4a82-a148-44b582162825",
   "metadata": {},
   "outputs": [
    {
     "name": "stdout",
     "output_type": "stream",
     "text": [
      "0\n",
      "1\n",
      "2\n",
      "3\n",
      "4\n",
      "5\n",
      "6\n",
      "7\n",
      "8\n",
      "9\n",
      "10\n",
      "11\n",
      "12\n",
      "13\n",
      "14\n",
      "15\n",
      "16\n",
      "17\n",
      "18\n",
      "19\n"
     ]
    }
   ],
   "source": [
    "for i in range(0, 20):\n",
    "    print(i)\n"
   ]
  },
  {
   "cell_type": "code",
   "execution_count": 3,
   "id": "c086fce5-ee77-49ac-accb-ac228b728ccb",
   "metadata": {},
   "outputs": [],
   "source": [
    "# print range 10 to 20"
   ]
  },
  {
   "cell_type": "code",
   "execution_count": 4,
   "id": "d363296f-15e9-46dc-a2b9-a1cd97bbf8dd",
   "metadata": {},
   "outputs": [
    {
     "name": "stdout",
     "output_type": "stream",
     "text": [
      "10\n",
      "11\n",
      "12\n",
      "13\n",
      "14\n",
      "15\n",
      "16\n",
      "17\n",
      "18\n",
      "19\n"
     ]
    }
   ],
   "source": [
    "for i in range(10,20):\n",
    "    print(i)"
   ]
  },
  {
   "cell_type": "code",
   "execution_count": 5,
   "id": "b90dfb57-a27c-4c79-9d86-050d19f4b72e",
   "metadata": {},
   "outputs": [],
   "source": [
    "# Print number of items in the list by using 'len'"
   ]
  },
  {
   "cell_type": "code",
   "execution_count": 7,
   "id": "dfd9b326-f845-4a22-b278-ea3efcbf0b5a",
   "metadata": {},
   "outputs": [
    {
     "name": "stdout",
     "output_type": "stream",
     "text": [
      "Number of items in the list: 7\n"
     ]
    }
   ],
   "source": [
    "listItems = [10, 20, 14, 55, 43, 87, 76]\n",
    "print(\"Number of items in the list:\", len(listItems))"
   ]
  },
  {
   "cell_type": "code",
   "execution_count": 8,
   "id": "c5aa567f-331e-467a-a27f-13d7622b256f",
   "metadata": {},
   "outputs": [],
   "source": [
    "#Print letters from a word in each line"
   ]
  },
  {
   "cell_type": "code",
   "execution_count": 10,
   "id": "79616481-5ebb-451e-b7bf-2821aac6516c",
   "metadata": {},
   "outputs": [
    {
     "name": "stdout",
     "output_type": "stream",
     "text": [
      "A\n",
      "r\n",
      "t\n",
      "i\n",
      "f\n",
      "i\n",
      "c\n",
      "i\n",
      "a\n",
      "l\n",
      " \n",
      "I\n",
      "n\n",
      "t\n",
      "e\n",
      "l\n",
      "l\n",
      "i\n",
      "g\n",
      "e\n",
      "n\n",
      "c\n",
      "e\n"
     ]
    }
   ],
   "source": [
    "wordToPrint = \"Artificial Intelligence\"\n",
    "for letter in wordToPrint:\n",
    "    print(letter)"
   ]
  },
  {
   "cell_type": "code",
   "execution_count": 12,
   "id": "1b393a5e-55c9-4d33-93c7-0da1850cd929",
   "metadata": {},
   "outputs": [
    {
     "name": "stdout",
     "output_type": "stream",
     "text": [
      "(1, 'Welcome', 2, 'Hope')\n"
     ]
    }
   ],
   "source": [
    "# Use Tuple\n",
    "#(1, 'Welcome', 2, 'Hope')\n",
    "myTuple = (1, \"Welcome\", 2, \"Hope\")\n",
    "print(myTuple)"
   ]
  },
  {
   "cell_type": "code",
   "execution_count": 15,
   "id": "9864f5d1-e860-495d-accd-b0695a4a2cd7",
   "metadata": {},
   "outputs": [
    {
     "name": "stdout",
     "output_type": "stream",
     "text": [
      "((0, 1, 2, 3), ('Python', 'Hope'))\n"
     ]
    }
   ],
   "source": [
    "myTuple = ((0,1,2,3), (\"Python\", \"Hope\"))\n",
    "print(myTuple)"
   ]
  },
  {
   "cell_type": "code",
   "execution_count": 19,
   "id": "084329c8-eacc-43c8-bfdc-6812831bc980",
   "metadata": {},
   "outputs": [
    {
     "name": "stdout",
     "output_type": "stream",
     "text": [
      "19 is odd\n",
      "25 is odd\n",
      "1 is odd\n"
     ]
    }
   ],
   "source": [
    "# find odd numbers in the list\n",
    "numbers = (20,10,16,19,25,1,276,188)\n",
    "for num in numbers:\n",
    "    if (num % 2 != 0):\n",
    "        print(num, \"is odd\")"
   ]
  },
  {
   "cell_type": "code",
   "execution_count": 21,
   "id": "35ba5235-08d0-44c8-becb-816f1926fd7a",
   "metadata": {},
   "outputs": [
    {
     "name": "stdout",
     "output_type": "stream",
     "text": [
      "20 is even\n",
      "10 is even\n",
      "16 is even\n",
      "276 is even\n",
      "188 is even\n"
     ]
    }
   ],
   "source": [
    "# find even numbers in the list\n",
    "numbers = (20,10,16,19,25,1,276,188)\n",
    "for num in numbers:\n",
    "    if (num % 2 == 0):\n",
    "        print(num, \"is even\")"
   ]
  },
  {
   "cell_type": "code",
   "execution_count": null,
   "id": "fa7b42a1-af04-410d-80a4-d5c9975dddd4",
   "metadata": {},
   "outputs": [],
   "source": []
  }
 ],
 "metadata": {
  "kernelspec": {
   "display_name": "Python 3 (ipykernel)",
   "language": "python",
   "name": "python3"
  },
  "language_info": {
   "codemirror_mode": {
    "name": "ipython",
    "version": 3
   },
   "file_extension": ".py",
   "mimetype": "text/x-python",
   "name": "python",
   "nbconvert_exporter": "python",
   "pygments_lexer": "ipython3",
   "version": "3.13.5"
  }
 },
 "nbformat": 4,
 "nbformat_minor": 5
}
