{
 "cells": [
  {
   "cell_type": "code",
   "execution_count": 1,
   "id": "b1996ee5-5498-4a15-ac6e-8715d34e2cbd",
   "metadata": {},
   "outputs": [
    {
     "name": "stdout",
     "output_type": "stream",
     "text": [
      "Welcome to Assignment-1\n"
     ]
    }
   ],
   "source": [
    "print(\"Welcome to Assignment-1\")"
   ]
  },
  {
   "cell_type": "code",
   "execution_count": null,
   "id": "eab541ed-0ff9-4f03-94b1-3cbd65492409",
   "metadata": {},
   "outputs": [],
   "source": []
  },
  {
   "cell_type": "code",
   "execution_count": 2,
   "id": "3a7ae8f3-b936-46d4-8a5f-7c05723e2386",
   "metadata": {},
   "outputs": [
    {
     "name": "stdout",
     "output_type": "stream",
     "text": [
      "Num1= 10\n",
      "Num2= 30\n",
      "Add= 40\n"
     ]
    }
   ],
   "source": [
    "num_1 = 10\n",
    "num_2 = 30\n",
    "total_sum = num_1 + num_2\n",
    "print(\"Num1=\", num_1)\n",
    "print(\"Num2=\", num_2)\n",
    "print(\"Add=\", total_sum)"
   ]
  },
  {
   "cell_type": "code",
   "execution_count": null,
   "id": "0dee6b18-d27b-486d-840a-cd92a73c8fce",
   "metadata": {},
   "outputs": [],
   "source": []
  },
  {
   "cell_type": "code",
   "execution_count": 4,
   "id": "323a9a24-2997-45d3-9bc9-991a5bc68333",
   "metadata": {},
   "outputs": [],
   "source": [
    "#Body Mass Index"
   ]
  },
  {
   "cell_type": "code",
   "execution_count": 3,
   "id": "bf6c91cd-8033-4db9-9845-3c1c7a3916c2",
   "metadata": {},
   "outputs": [
    {
     "name": "stdin",
     "output_type": "stream",
     "text": [
      "Enter the BMI Index: 34\n"
     ]
    },
    {
     "name": "stdout",
     "output_type": "stream",
     "text": [
      "Very Overweight\n"
     ]
    }
   ],
   "source": [
    "bmi_value = int(input(\"Enter the BMI Index:\"))\n",
    "if bmi_value <= 17:\n",
    "    print(\"Underweight\")\n",
    "elif bmi_value <= 22:\n",
    "    print(\"Normalweight\")\n",
    "elif bmi_value <= 27:\n",
    "    print(\"Overweight\")\n",
    "else:\n",
    "    print(\"Very Overweight\")"
   ]
  },
  {
   "cell_type": "code",
   "execution_count": null,
   "id": "9d41eab1-feb0-4b5b-b1e7-37eb949c26d3",
   "metadata": {},
   "outputs": [],
   "source": []
  }
 ],
 "metadata": {
  "kernelspec": {
   "display_name": "Python 3 (ipykernel)",
   "language": "python",
   "name": "python3"
  },
  "language_info": {
   "codemirror_mode": {
    "name": "ipython",
    "version": 3
   },
   "file_extension": ".py",
   "mimetype": "text/x-python",
   "name": "python",
   "nbconvert_exporter": "python",
   "pygments_lexer": "ipython3",
   "version": "3.13.5"
  }
 },
 "nbformat": 4,
 "nbformat_minor": 5
}
