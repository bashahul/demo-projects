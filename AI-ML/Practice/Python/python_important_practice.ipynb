{
 "cells": [
  {
   "cell_type": "code",
   "execution_count": 1,
   "id": "45cebc8e-d4c7-453f-84e4-072679423ec2",
   "metadata": {},
   "outputs": [
    {
     "name": "stdout",
     "output_type": "stream",
     "text": [
      "['a', 'b', 'c']\n"
     ]
    }
   ],
   "source": [
    "# Get a list of all the keys in a dictionary\n",
    "dictionary1 = {\"a\": 1, \"b\": 2, \"c\": 3}\n",
    "\n",
    "keys = list(dictionary1.keys())\n",
    "\n",
    "print(keys)"
   ]
  },
  {
   "cell_type": "code",
   "execution_count": 8,
   "id": "7f57594e-503f-4ae9-acec-7b5f41fd8246",
   "metadata": {},
   "outputs": [
    {
     "name": "stdout",
     "output_type": "stream",
     "text": [
      "(3, 6, 9, 12, 15, 18, 21, 24, 27)\n"
     ]
    }
   ],
   "source": [
    "# Program to filter out the number divisible by 3 from a tuple using lambda function\n",
    "numbers = tuple(range(1, 30))\n",
    "\n",
    "filtered_items = filter(lambda x: x % 3 == 0, numbers)\n",
    "\n",
    "filtered_tuples= tuple(filtered_items)\n",
    "\n",
    "print(filtered_tuples)"
   ]
  },
  {
   "cell_type": "code",
   "execution_count": 9,
   "id": "7c734610-22ea-4226-a5ba-6a1bdc612366",
   "metadata": {},
   "outputs": [
    {
     "name": "stdout",
     "output_type": "stream",
     "text": [
      "<class 'int'>\n",
      "<class 'float'>\n",
      "<class 'str'>\n"
     ]
    }
   ],
   "source": [
    "# Find data type of a variable\n",
    "my_num = 10\n",
    "my_dec =12.5\n",
    "my_str = \"Hello\"\n",
    "\n",
    "print(type(my_num))\n",
    "print(type(my_dec))\n",
    "print(type(my_str))"
   ]
  },
  {
   "cell_type": "code",
   "execution_count": 11,
   "id": "4fda639e-506a-4aaa-9b8c-297c0c13f193",
   "metadata": {},
   "outputs": [
    {
     "name": "stdout",
     "output_type": "stream",
     "text": [
      "<class 'str'>\n",
      "<class 'int'>\n"
     ]
    }
   ],
   "source": [
    "# Convert a given string to int using a single line of code\n",
    "my_int_str = \"100\"\n",
    "\n",
    "print(type(my_int_str))\n",
    "\n",
    "my_int = int(my_int_str)\n",
    "\n",
    "print(type(my_int))"
   ]
  },
  {
   "cell_type": "code",
   "execution_count": 13,
   "id": "085a1a73-b22b-4b59-baf6-cb6698610e42",
   "metadata": {},
   "outputs": [
    {
     "name": "stdout",
     "output_type": "stream",
     "text": [
      "3\n"
     ]
    }
   ],
   "source": [
    "# Access an element of a list\n",
    "my_list = [1,2,3,4]\n",
    "\n",
    "print(my_list[2])"
   ]
  },
  {
   "cell_type": "code",
   "execution_count": 18,
   "id": "4012ce35-be2c-4b1b-bff2-1f4e9c37fff3",
   "metadata": {},
   "outputs": [
    {
     "name": "stdout",
     "output_type": "stream",
     "text": [
      "19\n",
      "18\n",
      "18\n",
      "17\n",
      "17\n",
      "16\n",
      "Deleted item 13\n"
     ]
    }
   ],
   "source": [
    "# Different ways of deleting an element from a list.\n",
    "my_list = list(range(1, 20))\n",
    "\n",
    "# delete by index\n",
    "print(len(my_list))\n",
    "del my_list[2]\n",
    "print(len(my_list))\n",
    "\n",
    "# delete by item content - remove only first item\n",
    "print(len(my_list))\n",
    "my_list.remove(10)\n",
    "print(len(my_list))\n",
    "\n",
    "# delete by index and get the removed item \n",
    "print(len(my_list))\n",
    "content_1 =  my_list.pop(10)\n",
    "print(len(my_list))\n",
    "print(\"Deleted item\", content_1)"
   ]
  },
  {
   "cell_type": "code",
   "execution_count": 22,
   "id": "5414a19b-d9dd-4ea1-9783-30eb364585f5",
   "metadata": {},
   "outputs": [
    {
     "name": "stdout",
     "output_type": "stream",
     "text": [
      "29\n"
     ]
    }
   ],
   "source": [
    "# Delete a whole list\n",
    "my_list = list(range(1, 30))\n",
    "print(len(my_list))\n",
    "del my_list\n"
   ]
  },
  {
   "cell_type": "code",
   "execution_count": 26,
   "id": "fc82ffc6-69ba-47e3-84cd-16291cee97d6",
   "metadata": {},
   "outputs": [
    {
     "name": "stdout",
     "output_type": "stream",
     "text": [
      "[1, 2, 3, 4, 5, 6, 7, 8, 9, 10, 11, 12, 13, 14, 15, 16, 17, 18, 19, 20, 21, 22, 23, 24, 25, 26, 27, 28, 29]\n",
      "[29, 28, 27, 26, 25, 24, 23, 22, 21, 20, 19, 18, 17, 16, 15, 14, 13, 12, 11, 10, 9, 8, 7, 6, 5, 4, 3, 2, 1]\n"
     ]
    }
   ],
   "source": [
    "# Reverse an array\n",
    "my_list = list(range(1, 30))\n",
    "\n",
    "print(my_list)\n",
    "\n",
    "my_list.reverse()\n",
    "\n",
    "print(my_list)"
   ]
  },
  {
   "cell_type": "code",
   "execution_count": 33,
   "id": "9b2d8807-ad9c-449e-a4b5-6b8cc2b21f95",
   "metadata": {},
   "outputs": [
    {
     "name": "stdout",
     "output_type": "stream",
     "text": [
      "2\n",
      "array('i', [1, 2, 3, 4, 5, 6, 7, 8, 9, 10, 11, 12, 13, 14, 15, 16, 17, 18, 19, 20, 21, 22, 23, 24, 25, 26, 27, 28, 29])\n",
      "array('i', [1, 3, 4, 5, 6, 7, 8, 9, 10, 11, 12, 13, 14, 15, 16, 17, 18, 19, 20, 21, 22, 23, 24, 25, 26, 27, 28, 29])\n",
      "array('i', [1000, 3, 4, 5, 6, 7, 8, 9, 10, 11, 12, 13, 14, 15, 16, 17, 18, 19, 20, 21, 22, 23, 24, 25, 26, 27, 28, 29])\n"
     ]
    }
   ],
   "source": [
    "# Code snippet to get an element, delete an element, and update an element in an array.\n",
    "import array as arr\n",
    "\n",
    "my_arr = arr.array('i', range(1,30))\n",
    "\n",
    "print(my_arr[1])\n",
    "\n",
    "print(my_arr)\n",
    "\n",
    "del my_arr[1]\n",
    "\n",
    "print(my_arr)\n",
    "\n",
    "my_arr[0] = 1000\n",
    "\n",
    "print(my_arr)"
   ]
  },
  {
   "cell_type": "code",
   "execution_count": 4,
   "id": "70d14133-dcaf-406e-b8da-e0d71980f6b5",
   "metadata": {},
   "outputs": [
    {
     "name": "stdout",
     "output_type": "stream",
     "text": [
      "[1, 4, 9, 16, 25, 36, 49, 64, 81]\n"
     ]
    }
   ],
   "source": [
    "# use List comprehension to create new list\n",
    "existing_list = range(1, 10)\n",
    "\n",
    "new_list = [x**2 for x in existing_list]\n",
    "\n",
    "print(new_list)"
   ]
  },
  {
   "cell_type": "code",
   "execution_count": 5,
   "id": "14cf0f99-8083-4b63-a67f-1d1a12c0f51a",
   "metadata": {},
   "outputs": [
    {
     "name": "stdout",
     "output_type": "stream",
     "text": [
      "[4, 16, 36, 64]\n"
     ]
    }
   ],
   "source": [
    "# use List comprehension to create new list - but only for even number\n",
    "existing_list = range(1,10)\n",
    "\n",
    "new_list = [x**2 for x in existing_list if x%2 == 0]\n",
    "\n",
    "print(new_list)"
   ]
  },
  {
   "cell_type": "code",
   "execution_count": 3,
   "id": "60573787-ad91-4e45-9fed-0a13a3ff9bd3",
   "metadata": {},
   "outputs": [
    {
     "name": "stdout",
     "output_type": "stream",
     "text": [
      "3\n"
     ]
    }
   ],
   "source": [
    "# lambda function\n",
    "add_func = lambda x,y: x + y\n",
    "\n",
    "my_sum = add_func(1,2)\n",
    "\n",
    "print(my_sum)"
   ]
  },
  {
   "cell_type": "code",
   "execution_count": 6,
   "id": "92e10e4e-0aff-4a4a-9295-be4305727a3c",
   "metadata": {},
   "outputs": [
    {
     "name": "stdout",
     "output_type": "stream",
     "text": [
      "['H', 'e', 'l', 'l', 'o']\n"
     ]
    }
   ],
   "source": [
    "my_string = \"Hello\"\n",
    "my_list = list(my_string)\n",
    "print(my_list)"
   ]
  },
  {
   "cell_type": "code",
   "execution_count": 9,
   "id": "41376611-8873-47ab-820c-96bc8b4ece75",
   "metadata": {},
   "outputs": [
    {
     "data": {
      "text/plain": [
       "True"
      ]
     },
     "execution_count": 9,
     "metadata": {},
     "output_type": "execute_result"
    }
   ],
   "source": [
    "# Find Prime Number\n",
    "def check_if_prime(given_number):\n",
    "    if (given_number <= 1):\n",
    "        return False\n",
    "\n",
    "    for i in range(2, int(given_number**0.5) + 1):\n",
    "        if (given_number % i == 0):\n",
    "            return False\n",
    "\n",
    "    return True\n",
    "\n",
    "check_if_prime(7)"
   ]
  },
  {
   "cell_type": "code",
   "execution_count": 10,
   "id": "4c9e7e3c-843d-4f64-b98e-881830656974",
   "metadata": {},
   "outputs": [
    {
     "data": {
      "text/plain": [
       "120"
      ]
     },
     "execution_count": 10,
     "metadata": {},
     "output_type": "execute_result"
    }
   ],
   "source": [
    "# Find Factorial\n",
    "def get_factorial(given_number):\n",
    "    if (given_number == 0):\n",
    "        return 1\n",
    "\n",
    "    return  given_number * get_factorial(given_number - 1)\n",
    "\n",
    "get_factorial(5)"
   ]
  },
  {
   "cell_type": "code",
   "execution_count": 14,
   "id": "8e29c4a2-33f0-4788-8252-5a9f26056f10",
   "metadata": {},
   "outputs": [
    {
     "name": "stdout",
     "output_type": "stream",
     "text": [
      "5.0\n",
      "5.0\n"
     ]
    }
   ],
   "source": [
    "# Find Square Root\n",
    "import math\n",
    "def find_sqrt(given_number):\n",
    "   sqrt_using_math_lib = math.sqrt(given_number)\n",
    "\n",
    "   print(sqrt_using_math_lib)\n",
    "\n",
    "   sqrt_using_operator = given_number**0.5\n",
    "\n",
    "   print(sqrt_using_operator)\n",
    "\n",
    "find_sqrt(25)"
   ]
  },
  {
   "cell_type": "code",
   "execution_count": 20,
   "id": "b2f457e4-421d-4e95-bdb8-12156636a4b5",
   "metadata": {},
   "outputs": [
    {
     "name": "stdout",
     "output_type": "stream",
     "text": [
      "False\n",
      "True\n",
      "False\n"
     ]
    }
   ],
   "source": [
    "# Find leap year\n",
    "def check_if_leap_year(given_year):\n",
    "    if(given_year % 4 == 0 and given_year % 100 != 0) or (given_year % 400 == 0):\n",
    "        return True\n",
    "    else:\n",
    "        return False\n",
    "\n",
    "is_leap_2000 = check_if_leap_year(2100)\n",
    "is_leap_2400 = check_if_leap_year(2400)\n",
    "is_leap_2021 = check_if_leap_year(2021)\n",
    "\n",
    "print(is_leap_2000)\n",
    "print(is_leap_2400)\n",
    "print(is_leap_2021)"
   ]
  },
  {
   "cell_type": "code",
   "execution_count": 23,
   "id": "1030f064-bf6f-4c33-ac7c-504fa6ffee2d",
   "metadata": {},
   "outputs": [
    {
     "data": {
      "text/plain": [
       "True"
      ]
     },
     "execution_count": 23,
     "metadata": {},
     "output_type": "execute_result"
    }
   ],
   "source": [
    "# Find if palindrome\n",
    "def check_if_palindrome(given_string):\n",
    "    return given_string == given_string[::-1]\n",
    "\n",
    "check_if_palindrome('racecar')"
   ]
  },
  {
   "cell_type": "code",
   "execution_count": null,
   "id": "170f5555-5daa-4e46-91d8-d7e7bfa6fc4b",
   "metadata": {},
   "outputs": [],
   "source": []
  }
 ],
 "metadata": {
  "kernelspec": {
   "display_name": "Python 3 (ipykernel)",
   "language": "python",
   "name": "python3"
  },
  "language_info": {
   "codemirror_mode": {
    "name": "ipython",
    "version": 3
   },
   "file_extension": ".py",
   "mimetype": "text/x-python",
   "name": "python",
   "nbconvert_exporter": "python",
   "pygments_lexer": "ipython3",
   "version": "3.13.5"
  }
 },
 "nbformat": 4,
 "nbformat_minor": 5
}
