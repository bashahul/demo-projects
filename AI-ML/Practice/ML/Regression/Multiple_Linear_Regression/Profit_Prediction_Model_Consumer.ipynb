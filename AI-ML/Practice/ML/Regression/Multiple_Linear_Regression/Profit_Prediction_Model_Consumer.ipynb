{
 "cells": [
  {
   "cell_type": "code",
   "execution_count": 1,
   "id": "336bdc45-ad37-4f60-a436-bdeb43997b58",
   "metadata": {},
   "outputs": [],
   "source": [
    "# import pickle to load model\n",
    "import pickle"
   ]
  },
  {
   "cell_type": "code",
   "execution_count": 2,
   "id": "9e452653-6c91-41e2-832e-f51e0b9b85ae",
   "metadata": {},
   "outputs": [],
   "source": [
    "# load the model\n",
    "loaded_model = pickle.load(open('finalized_model_profit_prediction.sav', 'rb'))"
   ]
  },
  {
   "cell_type": "code",
   "execution_count": 11,
   "id": "4f4d3551-879b-4e8a-8d71-dede556c78fa",
   "metadata": {},
   "outputs": [
    {
     "name": "stdin",
     "output_type": "stream",
     "text": [
      "R&D Spend 1200\n",
      "Administration 2000\n",
      "Marketing Spend 3000\n",
      "State_Florida 1\n",
      "State_New York 0\n"
     ]
    }
   ],
   "source": [
    "amt_rnd = int(input(\"R&D Spend\"))\n",
    "amt_adm = int(input(\"Administration\"))\n",
    "amt_mark = int(input(\"Marketing Spend\"))\n",
    "is_florida = int(input(\"State_Florida\"))\n",
    "is_new_york = int(input(\"State_New York\"))"
   ]
  },
  {
   "cell_type": "code",
   "execution_count": 12,
   "id": "2adf2077-f2a6-4a74-a0ef-3e1117f32166",
   "metadata": {},
   "outputs": [
    {
     "name": "stderr",
     "output_type": "stream",
     "text": [
      "C:\\Users\\DevUser\\anaconda3\\Lib\\site-packages\\sklearn\\utils\\validation.py:2739: UserWarning: X does not have valid feature names, but LinearRegression was fitted with feature names\n",
      "  warnings.warn(\n"
     ]
    },
    {
     "data": {
      "text/plain": [
       "array([[43969.34637082]])"
      ]
     },
     "execution_count": 12,
     "metadata": {},
     "output_type": "execute_result"
    }
   ],
   "source": [
    "# user data to 2d array so it could be use it in predict method.\n",
    "import numpy as np\n",
    "\n",
    "input_data = np.array([[amt_rnd, amt_adm, amt_mark, is_florida, is_new_york]])\n",
    "\n",
    "prediction = loaded_model.predict(input_data)\n",
    "\n",
    "prediction"
   ]
  },
  {
   "cell_type": "code",
   "execution_count": null,
   "id": "eba3f9c2-bbaf-401f-8909-96a1a89d9701",
   "metadata": {},
   "outputs": [],
   "source": []
  }
 ],
 "metadata": {
  "kernelspec": {
   "display_name": "Python 3 (ipykernel)",
   "language": "python",
   "name": "python3"
  },
  "language_info": {
   "codemirror_mode": {
    "name": "ipython",
    "version": 3
   },
   "file_extension": ".py",
   "mimetype": "text/x-python",
   "name": "python",
   "nbconvert_exporter": "python",
   "pygments_lexer": "ipython3",
   "version": "3.13.5"
  }
 },
 "nbformat": 4,
 "nbformat_minor": 5
}
