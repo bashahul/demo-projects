{
 "cells": [
  {
   "cell_type": "code",
   "execution_count": 27,
   "id": "dcd47dae-f0e4-4c42-915c-eaa39147035d",
   "metadata": {},
   "outputs": [
    {
     "name": "stdout",
     "output_type": "stream",
     "text": [
      "Value:  10\n",
      "correct\n"
     ]
    }
   ],
   "source": [
    "# Print 'correct' if i == 10\n",
    "i = 10\n",
    "print(\"Value: \", i)\n",
    "print('correct') if i == 10 else None"
   ]
  },
  {
   "cell_type": "code",
   "execution_count": 30,
   "id": "2e79f287-c4d2-40dd-aefb-bcc4060a1d30",
   "metadata": {},
   "outputs": [
    {
     "name": "stdin",
     "output_type": "stream",
     "text": [
      "Enter the password HOPE@123\n"
     ]
    },
    {
     "name": "stdout",
     "output_type": "stream",
     "text": [
      "Your password is correct\n"
     ]
    }
   ],
   "source": [
    "# Check the password using if else statment\n",
    "userPwd = input(\"Enter the password\")\n",
    "if (userPwd == \"HOPE@123\"):\n",
    "    print(\"Your password is correct\")\n",
    "else:\n",
    "    print(\"Your password is incorrect\")"
   ]
  },
  {
   "cell_type": "code",
   "execution_count": 32,
   "id": "153df9ac-e31d-4690-8efb-90cacf51acde",
   "metadata": {},
   "outputs": [
    {
     "name": "stdin",
     "output_type": "stream",
     "text": [
      "Enter your age 20\n"
     ]
    },
    {
     "name": "stdout",
     "output_type": "stream",
     "text": [
      "Adult\n"
     ]
    }
   ],
   "source": [
    "# Categorize the people using their age: Children, Adult, Citizen, Senior Citizen\n",
    "age = int(input(\"Enter your age\"))\n",
    "if (age <= 17):\n",
    "    print(\"Chidren\")\n",
    "elif (age <= 35):\n",
    "    print(\"Adult\")\n",
    "elif (age <= 60):\n",
    "    print(\"Citizen\")\n",
    "else:\n",
    "    print(\"Senior Citizen\")"
   ]
  },
  {
   "cell_type": "code",
   "execution_count": 34,
   "id": "0485b11a-ad52-403f-8f01-544229547283",
   "metadata": {},
   "outputs": [
    {
     "name": "stdin",
     "output_type": "stream",
     "text": [
      "Enter a number 20\n"
     ]
    },
    {
     "name": "stdout",
     "output_type": "stream",
     "text": [
      "No is Positive\n"
     ]
    }
   ],
   "source": [
    "# Find the given number is positive or negative\n",
    "input_number = int(input('Enter a number'))\n",
    "if input_number >= 0:\n",
    "    print(\"No is Positive\")\n",
    "else:\n",
    "    print(\"No is Negative\")"
   ]
  },
  {
   "cell_type": "code",
   "execution_count": 36,
   "id": "59bbf04e-76d7-475d-975a-f474ec7821da",
   "metadata": {},
   "outputs": [
    {
     "name": "stdin",
     "output_type": "stream",
     "text": [
      "Enter a number to check 22\n"
     ]
    },
    {
     "name": "stdout",
     "output_type": "stream",
     "text": [
      "Number is not divisible by 5\n"
     ]
    }
   ],
   "source": [
    "# Check whether the given number is divisble by 5\n",
    "input_number = int(input(\"Enter a number to check\"))\n",
    "if (input_number % 5 == 0):\n",
    "    print(\"Number is divisible by 5\")\n",
    "else:\n",
    "    print(\"Number is not divisible by 5\")"
   ]
  },
  {
   "cell_type": "code",
   "execution_count": null,
   "id": "311dd64d-90f8-4803-a6c5-6b26ca964e85",
   "metadata": {},
   "outputs": [],
   "source": []
  }
 ],
 "metadata": {
  "kernelspec": {
   "display_name": "Python 3 (ipykernel)",
   "language": "python",
   "name": "python3"
  },
  "language_info": {
   "codemirror_mode": {
    "name": "ipython",
    "version": 3
   },
   "file_extension": ".py",
   "mimetype": "text/x-python",
   "name": "python",
   "nbconvert_exporter": "python",
   "pygments_lexer": "ipython3",
   "version": "3.13.5"
  }
 },
 "nbformat": 4,
 "nbformat_minor": 5
}
