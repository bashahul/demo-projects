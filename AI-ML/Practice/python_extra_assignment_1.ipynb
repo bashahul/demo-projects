{
 "cells": [
  {
   "cell_type": "code",
   "execution_count": 2,
   "id": "85fe0568-e157-4879-81dd-cba450bde340",
   "metadata": {},
   "outputs": [
    {
     "name": "stdout",
     "output_type": "stream",
     "text": [
      "HOPE AI\n"
     ]
    }
   ],
   "source": [
    "#print Statement\n",
    "print(\"HOPE AI\")"
   ]
  },
  {
   "cell_type": "code",
   "execution_count": 6,
   "id": "c0a32aa5-0202-4888-b3b8-014b3595e5b7",
   "metadata": {},
   "outputs": [
    {
     "name": "stdin",
     "output_type": "stream",
     "text": [
      "Enter your institute name? : Hope AI\n"
     ]
    },
    {
     "data": {
      "text/plain": [
       "'Hope AI'"
      ]
     },
     "execution_count": 6,
     "metadata": {},
     "output_type": "execute_result"
    }
   ],
   "source": [
    "# Buy input\n",
    "input(\"Enter your institute name? :\")\n"
   ]
  },
  {
   "cell_type": "code",
   "execution_count": 5,
   "id": "fbef6e0a-eef1-4b92-a1c3-e9adafed0547",
   "metadata": {},
   "outputs": [
    {
     "name": "stdin",
     "output_type": "stream",
     "text": [
      "Enter your name: Shahul\n",
      "Enter your age: 80\n",
      "Enter your school name: Some School\n",
      "Enter your degree: Msc\n"
     ]
    },
    {
     "data": {
      "text/plain": [
       "'Msc'"
      ]
     },
     "execution_count": 5,
     "metadata": {},
     "output_type": "execute_result"
    }
   ],
   "source": [
    "#Buy inputs \n",
    "input(\"Enter your name:\")\n",
    "input(\"Enter your age:\")\n",
    "input(\"Enter your school name:\")\n",
    "input(\"Enter your degree:\")"
   ]
  },
  {
   "cell_type": "code",
   "execution_count": 8,
   "id": "b03f4f16-467f-44f6-a6f2-81f1a0b2512c",
   "metadata": {},
   "outputs": [],
   "source": []
  },
  {
   "cell_type": "code",
   "execution_count": 10,
   "id": "cbe14c2a-0c61-47f5-868c-66a643eea168",
   "metadata": {},
   "outputs": [
    {
     "name": "stdout",
     "output_type": "stream",
     "text": [
      "a = 43\n",
      "b = 34\n",
      "add = 77\n"
     ]
    }
   ],
   "source": [
    "#Addition\n",
    "value_a = 43\n",
    "value_b = 34\n",
    "value_sum = value_a + value_b\n",
    "print(\"a =\", value_a)\n",
    "print(\"b =\", value_b)\n",
    "print(\"add =\", value_sum)"
   ]
  },
  {
   "cell_type": "code",
   "execution_count": null,
   "id": "fcdc2aa4-6a40-43d6-a5de-fa960ffe4e08",
   "metadata": {},
   "outputs": [],
   "source": []
  },
  {
   "cell_type": "code",
   "execution_count": 12,
   "id": "8b7647ec-7517-437d-ad4d-d780e3105a96",
   "metadata": {},
   "outputs": [
    {
     "name": "stdout",
     "output_type": "stream",
     "text": [
      "a = 43\n",
      "b = 34\n",
      "Sub = 9\n"
     ]
    }
   ],
   "source": [
    "#Subtraction\n",
    "value_a = 43\n",
    "value_b = 34\n",
    "value_sub = value_a - value_b\n",
    "print(\"a =\", value_a)\n",
    "print(\"b =\", value_b)\n",
    "print(\"Sub =\", value_sub)"
   ]
  },
  {
   "cell_type": "code",
   "execution_count": 14,
   "id": "7080a337-f579-4821-a3d2-0e270aec95e6",
   "metadata": {},
   "outputs": [
    {
     "name": "stdout",
     "output_type": "stream",
     "text": [
      "a = 63\n",
      "b = 97\n",
      "Mul = 6111\n"
     ]
    }
   ],
   "source": [
    "#Multiplication\n",
    "value_a = 63\n",
    "value_b = 97\n",
    "value_mul = value_a * value_b\n",
    "print(\"a =\", value_a)\n",
    "print(\"b =\", value_b)\n",
    "print(\"Mul =\", value_mul)"
   ]
  },
  {
   "cell_type": "code",
   "execution_count": 16,
   "id": "56517a1c-cd68-4dbb-9dd0-29f61b0d4296",
   "metadata": {},
   "outputs": [
    {
     "name": "stdout",
     "output_type": "stream",
     "text": [
      "a = 76\n",
      "b = 31\n",
      "Float Div = 2.4516129032258065\n"
     ]
    }
   ],
   "source": [
    "#Division\n",
    "value_a = 76\n",
    "value_b = 31\n",
    "value_div_floot = value_a / value_b\n",
    "print(\"a =\", value_a)\n",
    "print(\"b =\", value_b)\n",
    "print(\"Float Div =\", value_div_floot)"
   ]
  },
  {
   "cell_type": "code",
   "execution_count": 2,
   "id": "a828db44-5899-4c6c-ba88-7838e8d9d407",
   "metadata": {},
   "outputs": [
    {
     "name": "stdout",
     "output_type": "stream",
     "text": [
      "a = 76\n",
      "b = 31\n",
      "Floor Div = 2\n"
     ]
    }
   ],
   "source": [
    "value_a = 76\n",
    "value_b = 31\n",
    "value_div_floor = value_a // value_b\n",
    "print(\"a =\", value_a)\n",
    "print(\"b =\", value_b)\n",
    "print(\"Floor Div =\", value_div_floor)\n"
   ]
  },
  {
   "cell_type": "code",
   "execution_count": 1,
   "id": "e9939618-377a-4f8b-84b1-dcf31edb2991",
   "metadata": {},
   "outputs": [
    {
     "name": "stdout",
     "output_type": "stream",
     "text": [
      "a = 76\n",
      "b = 31\n",
      "Modulo = 14\n"
     ]
    }
   ],
   "source": [
    "#Modulo\n",
    "value_a = 76\n",
    "value_b = 31\n",
    "value_modulo = value_a % value_b\n",
    "print(\"a =\", value_a)\n",
    "print(\"b =\", value_b)\n",
    "print(\"Modulo =\", value_modulo)"
   ]
  },
  {
   "cell_type": "code",
   "execution_count": 3,
   "id": "a50ca635-d055-4a31-8b46-e8c6ebd051f4",
   "metadata": {},
   "outputs": [
    {
     "name": "stdout",
     "output_type": "stream",
     "text": [
      "a = 4\n",
      "b = 4\n",
      "Power = 256\n"
     ]
    }
   ],
   "source": [
    "#Power\n",
    "value_a = 4\n",
    "value_b = 4\n",
    "value_power = value_a ** value_b\n",
    "print(\"a =\", value_a)\n",
    "print(\"b =\", value_b)\n",
    "print(\"Power =\", value_power)"
   ]
  },
  {
   "cell_type": "code",
   "execution_count": null,
   "id": "710aa340-4607-4c6e-90b2-986b6ec09b98",
   "metadata": {},
   "outputs": [],
   "source": []
  }
 ],
 "metadata": {
  "kernelspec": {
   "display_name": "Python 3 (ipykernel)",
   "language": "python",
   "name": "python3"
  },
  "language_info": {
   "codemirror_mode": {
    "name": "ipython",
    "version": 3
   },
   "file_extension": ".py",
   "mimetype": "text/x-python",
   "name": "python",
   "nbconvert_exporter": "python",
   "pygments_lexer": "ipython3",
   "version": "3.13.5"
  }
 },
 "nbformat": 4,
 "nbformat_minor": 5
}
